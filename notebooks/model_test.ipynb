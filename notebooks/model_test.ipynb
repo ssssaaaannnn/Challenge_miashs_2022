{
 "cells": [
  {
   "cell_type": "code",
   "execution_count": 1,
   "metadata": {},
   "outputs": [],
   "source": [
    "import matplotlib.pyplot as plt\n",
    "import numpy as np\n",
    "import os\n",
    "import PIL\n",
    "import tensorflow as tf\n",
    "\n",
    "from tensorflow import keras\n",
    "from tensorflow.keras import layers\n",
    "from tensorflow.keras.models import Sequential\n",
    "from keras.models import Model\n",
    "from tensorflow.keras.preprocessing.image import ImageDataGenerator\n",
    "\n",
    "import time"
   ]
  },
  {
   "cell_type": "code",
   "execution_count": 2,
   "metadata": {},
   "outputs": [
    {
     "name": "stdout",
     "output_type": "stream",
     "text": [
      "15603\n"
     ]
    }
   ],
   "source": [
    "import pathlib\n",
    "dataset = pathlib.Path(r\"C:\\Users\\lulu5\\Documents\\echantillon_1\")\n",
    "image_count = len(list(dataset.glob('*/*.jpg')))\n",
    "print(image_count)"
   ]
  },
  {
   "cell_type": "code",
   "execution_count": 3,
   "metadata": {},
   "outputs": [],
   "source": [
    "batch_size = 128\n",
    "img_height = 224\n",
    "img_width = 224\n",
    "number_class = 1081"
   ]
  },
  {
   "cell_type": "code",
   "execution_count": 4,
   "metadata": {},
   "outputs": [],
   "source": [
    "epochs = 10"
   ]
  },
  {
   "cell_type": "markdown",
   "metadata": {},
   "source": [
    "# Unoptimized"
   ]
  },
  {
   "cell_type": "code",
   "execution_count": 5,
   "metadata": {},
   "outputs": [
    {
     "name": "stderr",
     "output_type": "stream",
     "text": [
      "C:\\Users\\lulu5\\anaconda3\\lib\\site-packages\\keras_preprocessing\\image\\image_data_generator.py:349: UserWarning: This ImageDataGenerator specifies `featurewise_std_normalization`, which overrides setting of `featurewise_center`.\n",
      "  warnings.warn('This ImageDataGenerator specifies '\n"
     ]
    }
   ],
   "source": [
    "TFs = {#'height_shift_range':  .5,\n",
    "       \"horizontal_flip\": True,\n",
    "       \"vertical_flip\": True,\n",
    "       \"rotation_range\": 30,\n",
    "       \"featurewise_std_normalization\": True,\n",
    "       \"brightness_range\": (1, 1.5),\n",
    "       \"shear_range\":0.2\n",
    "       # other transformation your want\n",
    "       # ...\n",
    "       }\n",
    "datagen = ImageDataGenerator(**TFs, validation_split=0.2)"
   ]
  },
  {
   "cell_type": "code",
   "execution_count": 6,
   "metadata": {},
   "outputs": [
    {
     "name": "stdout",
     "output_type": "stream",
     "text": [
      "Found 12832 images belonging to 1081 classes.\n",
      "Found 2771 images belonging to 1081 classes.\n"
     ]
    }
   ],
   "source": [
    "train_generator = datagen.flow_from_directory(\n",
    "    dataset,\n",
    "    color_mode=\"rgb\",\n",
    "    batch_size=batch_size,\n",
    "    subset = \"training\",\n",
    "    target_size=(img_height, img_width),\n",
    "    shuffle=True,\n",
    "    class_mode='binary')\n",
    "\n",
    "validation_generator = datagen.flow_from_directory(\n",
    "    dataset,\n",
    "    color_mode=\"rgb\",\n",
    "    batch_size=batch_size,\n",
    "    subset = \"validation\",\n",
    "    target_size=(img_height, img_width),\n",
    "    shuffle=True,\n",
    "    class_mode='binary')"
   ]
  },
  {
   "cell_type": "code",
   "execution_count": 7,
   "metadata": {},
   "outputs": [],
   "source": [
    "model_unoptimized = tf.keras.applications.resnet50.ResNet50(\n",
    "    include_top=True, weights=None, input_tensor=None,\n",
    "    input_shape=None, pooling=None, classes=number_class)\n",
    "\n",
    "model_unoptimized.compile(optimizer=\"Adam\", \n",
    "        loss=tf.keras.losses.SparseCategoricalCrossentropy(from_logits=True),\n",
    "        metrics=['accuracy', 'sparse_top_k_categorical_accuracy'])"
   ]
  },
  {
   "cell_type": "code",
   "execution_count": 8,
   "metadata": {},
   "outputs": [
    {
     "name": "stderr",
     "output_type": "stream",
     "text": [
      "C:\\Users\\lulu5\\anaconda3\\lib\\site-packages\\keras_preprocessing\\image\\image_data_generator.py:720: UserWarning: This ImageDataGenerator specifies `featurewise_center`, but it hasn't been fit on any training data. Fit it first by calling `.fit(numpy_data)`.\n",
      "  warnings.warn('This ImageDataGenerator specifies '\n",
      "C:\\Users\\lulu5\\anaconda3\\lib\\site-packages\\keras_preprocessing\\image\\image_data_generator.py:728: UserWarning: This ImageDataGenerator specifies `featurewise_std_normalization`, but it hasn't been fit on any training data. Fit it first by calling `.fit(numpy_data)`.\n",
      "  warnings.warn('This ImageDataGenerator specifies '\n"
     ]
    },
    {
     "name": "stdout",
     "output_type": "stream",
     "text": [
      "Epoch 1/10\n"
     ]
    },
    {
     "name": "stderr",
     "output_type": "stream",
     "text": [
      "C:\\Users\\lulu5\\anaconda3\\lib\\site-packages\\tensorflow\\python\\util\\dispatch.py:1082: UserWarning: \"`sparse_categorical_crossentropy` received `from_logits=True`, but the `output` argument was produced by a sigmoid or softmax activation and thus does not represent logits. Was this intended?\"\n",
      "  return dispatch_target(*args, **kwargs)\n"
     ]
    },
    {
     "name": "stdout",
     "output_type": "stream",
     "text": [
      "3/3 [==============================] - 124s 41s/step - loss: 8.3446 - accuracy: 0.0052 - sparse_top_k_categorical_accuracy: 0.0104 - val_loss: 791.2019 - val_accuracy: 0.0000e+00 - val_sparse_top_k_categorical_accuracy: 0.8828\n",
      "Epoch 2/10\n",
      "3/3 [==============================] - 122s 42s/step - loss: 7.8638 - accuracy: 0.0052 - sparse_top_k_categorical_accuracy: 0.0234 - val_loss: 15948.5312 - val_accuracy: 0.0000e+00 - val_sparse_top_k_categorical_accuracy: 1.0000\n",
      "Epoch 3/10\n",
      "3/3 [==============================] - 135s 46s/step - loss: 7.2311 - accuracy: 0.0052 - sparse_top_k_categorical_accuracy: 0.0182 - val_loss: 9995.0254 - val_accuracy: 0.0156 - val_sparse_top_k_categorical_accuracy: 1.0000\n",
      "Epoch 4/10\n",
      "3/3 [==============================] - 110s 37s/step - loss: 6.5350 - accuracy: 0.0052 - sparse_top_k_categorical_accuracy: 0.0312 - val_loss: 1513.8801 - val_accuracy: 0.0156 - val_sparse_top_k_categorical_accuracy: 1.0000\n",
      "Epoch 5/10\n",
      "1/3 [=========>....................] - ETA: 1:08 - loss: 6.3783 - accuracy: 0.0156 - sparse_top_k_categorical_accuracy: 0.0391"
     ]
    }
   ],
   "source": [
    "start_time = time.perf_counter()\n",
    "model_unoptimized.fit(train_generator, validation_data=validation_generator,epochs=epochs,batch_size=batch_size, verbose=1, steps_per_epoch=3,validation_steps=1)\n",
    "print(\"Execution time:\", time.perf_counter() - start_time)"
   ]
  },
  {
   "cell_type": "markdown",
   "metadata": {},
   "source": [
    "# Optimized"
   ]
  },
  {
   "cell_type": "code",
   "execution_count": null,
   "metadata": {},
   "outputs": [],
   "source": [
    "train_ds = tf.keras.utils.image_dataset_from_directory(\n",
    "  dataset,\n",
    "  validation_split=0.2,\n",
    "  subset=\"training\",\n",
    "  seed=123,\n",
    "  image_size=(img_height, img_width),\n",
    "  batch_size=batch_size)\n",
    "\n",
    "val_ds = tf.keras.utils.image_dataset_from_directory(\n",
    "  dataset,\n",
    "  validation_split=0.2,\n",
    "  subset=\"validation\",\n",
    "  seed=123,\n",
    "  image_size=(img_height, img_width),\n",
    "  batch_size=batch_size)"
   ]
  },
  {
   "cell_type": "code",
   "execution_count": null,
   "metadata": {},
   "outputs": [],
   "source": [
    "AUTOTUNE = tf.data.AUTOTUNE\n",
    "\n",
    "train_ds = train_ds.cache().shuffle(1000).prefetch(buffer_size=AUTOTUNE)\n",
    "val_ds = val_ds.cache().prefetch(buffer_size=AUTOTUNE)"
   ]
  },
  {
   "cell_type": "code",
   "execution_count": null,
   "metadata": {},
   "outputs": [],
   "source": [
    "data_augmentation = keras.Sequential(\n",
    "  [\n",
    "    layers.RandomFlip(\"horizontal\",\n",
    "                      input_shape=(img_height,\n",
    "                                  img_width,\n",
    "                                  3)),\n",
    "    layers.RandomRotation(0.1),\n",
    "    layers.RandomZoom(0.1),\n",
    "  ]\n",
    ")\n",
    "\n",
    "model_V1_augmented = Sequential()\n",
    "model_V1_augmented.add(data_augmentation)\n",
    "model = tf.keras.applications.resnet50.ResNet50(include_top=True, weights=None, input_tensor=None,input_shape=None, pooling=None, classes=number_class)\n",
    "extracted_layer= Model(inputs = model.input, outputs=model.get_layer(\"avg_pool\").output, name=\"model_V1\")\n",
    "extracted_layer.trainable = False\n",
    "model_V1_augmented.add(extracted_layer)\n",
    "\n",
    "model_V1_augmented.compile(optimizer=\"Adam\", \n",
    "        loss=tf.keras.losses.SparseCategoricalCrossentropy(from_logits=True),\n",
    "        metrics=['accuracy', 'sparse_top_k_categorical_accuracy'])"
   ]
  },
  {
   "cell_type": "code",
   "execution_count": null,
   "metadata": {},
   "outputs": [],
   "source": [
    "start_time = time.perf_counter()\n",
    "model_V1_augmented.fit(\n",
    "  train_ds,\n",
    "  validation_data=val_ds,\n",
    "  epochs=epochs,\n",
    "  steps_per_epoch=3\n",
    ")\n",
    "print(\"Execution time:\", time.perf_counter() - start_time)"
   ]
  }
 ],
 "metadata": {
  "interpreter": {
   "hash": "64a96bb099924a20028131b204b5e366cb20d8907c9fcc1768e22fadcfbdb2ca"
  },
  "kernelspec": {
   "display_name": "Python 3.8.8 ('base')",
   "language": "python",
   "name": "python3"
  },
  "language_info": {
   "codemirror_mode": {
    "name": "ipython",
    "version": 3
   },
   "file_extension": ".py",
   "mimetype": "text/x-python",
   "name": "python",
   "nbconvert_exporter": "python",
   "pygments_lexer": "ipython3",
   "version": "3.8.8"
  },
  "orig_nbformat": 4
 },
 "nbformat": 4,
 "nbformat_minor": 2
}
