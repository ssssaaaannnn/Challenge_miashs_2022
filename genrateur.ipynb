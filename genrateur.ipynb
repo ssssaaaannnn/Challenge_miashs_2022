{
 "cells": [
  {
   "cell_type": "markdown",
   "id": "7465173a",
   "metadata": {},
   "source": [
    "# Generateur"
   ]
  },
  {
   "cell_type": "markdown",
   "id": "378d6b23",
   "metadata": {},
   "source": [
    "## Environement de travail"
   ]
  },
  {
   "cell_type": "markdown",
   "id": "a45439fe",
   "metadata": {},
   "source": [
    "### Library"
   ]
  },
  {
   "cell_type": "code",
   "execution_count": 1,
   "id": "0a8e8e2f",
   "metadata": {
    "ExecuteTime": {
     "end_time": "2022-02-21T13:52:01.741854Z",
     "start_time": "2022-02-21T13:51:58.528331Z"
    },
    "collapsed": true
   },
   "outputs": [
    {
     "name": "stderr",
     "output_type": "stream",
     "text": [
      "2022-02-21 14:51:59.596503: W tensorflow/stream_executor/platform/default/dso_loader.cc:64] Could not load dynamic library 'libcudart.so.11.0'; dlerror: libcudart.so.11.0: cannot open shared object file: No such file or directory; LD_LIBRARY_PATH: /home/jchikhaoui/.local/lib/python3.8/site-packages/cv2/../../lib64:\n",
      "2022-02-21 14:51:59.596544: I tensorflow/stream_executor/cuda/cudart_stub.cc:29] Ignore above cudart dlerror if you do not have a GPU set up on your machine.\n"
     ]
    }
   ],
   "source": [
    "import pandas as pd\n",
    "import numpy as np\n",
    "\n",
    "import os\n",
    "from glob import glob\n",
    "import cv2\n",
    "\n",
    "import tensorflow as tf\n",
    "from tensorflow.keras import datasets, layers, models\n",
    "os.environ[\"CUDA_VISIBLE_DEVICES\"] = \"-1\""
   ]
  },
  {
   "cell_type": "markdown",
   "id": "b1c5c5ac",
   "metadata": {},
   "source": [
    "### Path"
   ]
  },
  {
   "cell_type": "code",
   "execution_count": 2,
   "id": "9bb644be",
   "metadata": {
    "ExecuteTime": {
     "end_time": "2022-02-21T13:52:04.076461Z",
     "start_time": "2022-02-21T13:52:03.887716Z"
    }
   },
   "outputs": [
    {
     "name": "stdout",
     "output_type": "stream",
     "text": [
      "data  data_exploration\tgenerateur\r\n"
     ]
    }
   ],
   "source": [
    "path = \"/mnt/c/Users/jchik/Documents/m2/challenge\"\n",
    "os.chdir(path)\n",
    "!ls"
   ]
  },
  {
   "cell_type": "markdown",
   "id": "1ea0d69d",
   "metadata": {},
   "source": [
    "## Extraction des données"
   ]
  },
  {
   "cell_type": "code",
   "execution_count": 83,
   "id": "9b8a782c",
   "metadata": {
    "ExecuteTime": {
     "end_time": "2022-02-21T11:33:31.120933Z",
     "start_time": "2022-02-21T11:33:31.032032Z"
    }
   },
   "outputs": [],
   "source": [
    "label = [os.path.basename(label) for label in glob(\"data/dataset_lucas/train/*\")]\n",
    "img_link = np.array([[label_, img] for label_ in label for img in glob(\"data/dataset_lucas/train/\" + label_ + \"/*\")])\n",
    "df = pd.DataFrame(data = {\"label\": img_link[:, 0], \"img_link\": img_link[:, 1]})"
   ]
  },
  {
   "cell_type": "code",
   "execution_count": 84,
   "id": "2ba3f685",
   "metadata": {
    "ExecuteTime": {
     "end_time": "2022-02-21T11:33:31.124383Z",
     "start_time": "2022-02-21T11:33:31.122370Z"
    }
   },
   "outputs": [],
   "source": [
    "def extract_img(link):\n",
    "    img = cv2.imread(link)\n",
    "    return img"
   ]
  },
  {
   "cell_type": "code",
   "execution_count": 85,
   "id": "90ed43be",
   "metadata": {
    "ExecuteTime": {
     "end_time": "2022-02-21T11:34:48.902835Z",
     "start_time": "2022-02-21T11:33:31.126674Z"
    }
   },
   "outputs": [
    {
     "data": {
      "text/html": [
       "<div>\n",
       "<style scoped>\n",
       "    .dataframe tbody tr th:only-of-type {\n",
       "        vertical-align: middle;\n",
       "    }\n",
       "\n",
       "    .dataframe tbody tr th {\n",
       "        vertical-align: top;\n",
       "    }\n",
       "\n",
       "    .dataframe thead th {\n",
       "        text-align: right;\n",
       "    }\n",
       "</style>\n",
       "<table border=\"1\" class=\"dataframe\">\n",
       "  <thead>\n",
       "    <tr style=\"text-align: right;\">\n",
       "      <th></th>\n",
       "      <th>label</th>\n",
       "      <th>img_link</th>\n",
       "      <th>img</th>\n",
       "    </tr>\n",
       "  </thead>\n",
       "  <tbody>\n",
       "    <tr>\n",
       "      <th>0</th>\n",
       "      <td>1355955</td>\n",
       "      <td>data/dataset_lucas/train/1355955/14ca6849c6702...</td>\n",
       "      <td>[[[121, 121, 133], [121, 121, 133], [121, 121,...</td>\n",
       "    </tr>\n",
       "    <tr>\n",
       "      <th>1</th>\n",
       "      <td>1355955</td>\n",
       "      <td>data/dataset_lucas/train/1355955/186c3c54ac3ad...</td>\n",
       "      <td>[[[99, 117, 124], [98, 116, 123], [97, 115, 12...</td>\n",
       "    </tr>\n",
       "    <tr>\n",
       "      <th>2</th>\n",
       "      <td>1355955</td>\n",
       "      <td>data/dataset_lucas/train/1355955/1ada170b59229...</td>\n",
       "      <td>[[[28, 40, 28], [27, 39, 27], [28, 39, 29], [3...</td>\n",
       "    </tr>\n",
       "    <tr>\n",
       "      <th>3</th>\n",
       "      <td>1355955</td>\n",
       "      <td>data/dataset_lucas/train/1355955/2b00392197370...</td>\n",
       "      <td>[[[52, 59, 132], [53, 60, 133], [53, 59, 134],...</td>\n",
       "    </tr>\n",
       "    <tr>\n",
       "      <th>4</th>\n",
       "      <td>1355955</td>\n",
       "      <td>data/dataset_lucas/train/1355955/5103fe9f21342...</td>\n",
       "      <td>[[[82, 76, 95], [81, 75, 94], [81, 75, 94], [8...</td>\n",
       "    </tr>\n",
       "  </tbody>\n",
       "</table>\n",
       "</div>"
      ],
      "text/plain": [
       "     label                                           img_link  \\\n",
       "0  1355955  data/dataset_lucas/train/1355955/14ca6849c6702...   \n",
       "1  1355955  data/dataset_lucas/train/1355955/186c3c54ac3ad...   \n",
       "2  1355955  data/dataset_lucas/train/1355955/1ada170b59229...   \n",
       "3  1355955  data/dataset_lucas/train/1355955/2b00392197370...   \n",
       "4  1355955  data/dataset_lucas/train/1355955/5103fe9f21342...   \n",
       "\n",
       "                                                 img  \n",
       "0  [[[121, 121, 133], [121, 121, 133], [121, 121,...  \n",
       "1  [[[99, 117, 124], [98, 116, 123], [97, 115, 12...  \n",
       "2  [[[28, 40, 28], [27, 39, 27], [28, 39, 29], [3...  \n",
       "3  [[[52, 59, 132], [53, 60, 133], [53, 59, 134],...  \n",
       "4  [[[82, 76, 95], [81, 75, 94], [81, 75, 94], [8...  "
      ]
     },
     "execution_count": 85,
     "metadata": {},
     "output_type": "execute_result"
    }
   ],
   "source": [
    "df[\"img\"] = df.img_link.map(extract_img)\n",
    "df.head()"
   ]
  },
  {
   "cell_type": "markdown",
   "id": "3842a088",
   "metadata": {},
   "source": [
    "### Generateur"
   ]
  },
  {
   "cell_type": "code",
   "execution_count": 5,
   "id": "34595555",
   "metadata": {
    "ExecuteTime": {
     "end_time": "2022-02-21T14:01:56.257166Z",
     "start_time": "2022-02-21T14:01:56.254929Z"
    }
   },
   "outputs": [],
   "source": [
    "SIZE = 200\n",
    "BATCH = 32\n",
    "BATCH_SIZE = 0"
   ]
  },
  {
   "cell_type": "code",
   "execution_count": 113,
   "id": "b8093c16",
   "metadata": {
    "ExecuteTime": {
     "end_time": "2022-02-21T15:13:21.002855Z",
     "start_time": "2022-02-21T15:13:20.997172Z"
    }
   },
   "outputs": [],
   "source": [
    "class Generator:\n",
    "    def __init__(self, size = SIZE, batch = BATCH, machine = \"GPU4\"):\n",
    "        self.size = size\n",
    "        self.batch = batch\n",
    "        self.path = self.path(machine)\n",
    "        self.label_img = self.label_img()\n",
    "        self.tirage = self.my_shuffle()\n",
    "    \n",
    "    def path(self, machine):\n",
    "        if machine == \"GPU4\": \n",
    "            path = \"/home/data/challenge_2022_miashs/train\"\n",
    "        else: \n",
    "            path = os.getcwd() + \"/data/dataset_lucas/train\"\n",
    "            \n",
    "        return path\n",
    "            \n",
    "    def label_img(self):\n",
    "        label = [os.path.basename(label_) for label_ in glob(self.path + \"/*\")]\n",
    "        label_img = [[label_, glob(self.path + \"/\" + label_ + \"/*\")] for label_ in label]\n",
    "        \n",
    "        return np.array(label_img, dtype= object)\n",
    "    \n",
    "    def my_shuffle(self):\n",
    "        nbr_label = len(self.label_img)\n",
    "        nbr_img = np.sum([len(li) for li in self.label_img[:, 1]])\n",
    "        tirage_label = tf.random.uniform(\n",
    "            shape = (nbr_img,),\n",
    "            minval = 0,\n",
    "            maxval = nbr_label,\n",
    "            dtype = tf.dtypes.int32\n",
    "        )\n",
    "        tirage_img = tf.map_fn(\n",
    "            fn = lambda x: tf.random.uniform(shape = (1,), minval = 0, maxval = len(self.label_img[x, 1]), dtype = tf.dtypes.int32),\n",
    "            elems = tirage_label\n",
    "        )\n",
    "        \n",
    "        return tirage_img, tirage_label"
   ]
  },
  {
   "cell_type": "code",
   "execution_count": 114,
   "id": "ed188c4d",
   "metadata": {
    "ExecuteTime": {
     "end_time": "2022-02-21T15:13:33.995713Z",
     "start_time": "2022-02-21T15:13:31.668196Z"
    }
   },
   "outputs": [],
   "source": [
    "a = Generator(machine = \"other\")"
   ]
  },
  {
   "cell_type": "code",
   "execution_count": 115,
   "id": "36e96329",
   "metadata": {
    "ExecuteTime": {
     "end_time": "2022-02-21T15:13:45.861735Z",
     "start_time": "2022-02-21T15:13:45.859556Z"
    }
   },
   "outputs": [],
   "source": [
    "tirage_img, tirage_label = a.tirage"
   ]
  },
  {
   "cell_type": "code",
   "execution_count": 116,
   "id": "86fc37ce",
   "metadata": {
    "ExecuteTime": {
     "end_time": "2022-02-21T15:14:01.527395Z",
     "start_time": "2022-02-21T15:14:01.524081Z"
    }
   },
   "outputs": [
    {
     "data": {
      "text/plain": [
       "<tf.Tensor: shape=(5356,), dtype=int32, numpy=array([ 0, 13, 16, ..., 11,  1,  1], dtype=int32)>"
      ]
     },
     "execution_count": 116,
     "metadata": {},
     "output_type": "execute_result"
    }
   ],
   "source": [
    "tirage_label"
   ]
  },
  {
   "cell_type": "code",
   "execution_count": 105,
   "id": "bc0d39a7",
   "metadata": {
    "ExecuteTime": {
     "end_time": "2022-02-21T14:45:52.896154Z",
     "start_time": "2022-02-21T14:45:51.147617Z"
    }
   },
   "outputs": [
    {
     "data": {
      "text/plain": [
       "<tf.Tensor: shape=(5356,), dtype=int32, numpy=array([ 24,  46,  35, ...,   9, 873,  35], dtype=int32)>"
      ]
     },
     "execution_count": 105,
     "metadata": {},
     "output_type": "execute_result"
    }
   ],
   "source": [
    "tf.map_fn(lambda x: len(a.label_img[x, 1]), a.tirage)"
   ]
  },
  {
   "cell_type": "code",
   "execution_count": 100,
   "id": "13a83258",
   "metadata": {
    "ExecuteTime": {
     "end_time": "2022-02-21T13:46:41.682043Z",
     "start_time": "2022-02-21T13:46:40.608362Z"
    }
   },
   "outputs": [],
   "source": [
    "def get_file(machine = \"GPU4\"):\n",
    "    if machine == \"GPU4\": \n",
    "        path = \"/home/data/challenge_2022_miashs/train\"\n",
    "    else: \n",
    "        path = os.getcwd() + \"/data/dataset_lucas/train\"\n",
    "        \n",
    "    label = [os.path.basename(label) for label in glob(path + \"/*\")]\n",
    "    img_link = np.array(\n",
    "        [[label_, img] for label_ in label for img in glob(path + \"/\" + label_ + \"/*\")]\n",
    "    )\n",
    "    return img_link\n",
    "\n",
    "\n",
    "def read_image(path, label):\n",
    "    img = tf.image.decode_jpeg(tf.io.read_file(path),  channels=3)\n",
    "    img = tf.image.resize(img, (SIZE, SIZE))\n",
    "    img = tf.cast(img, tf.int32)/255\n",
    "    return img, label\n",
    "\n",
    "\n",
    "def generator(x, y):\n",
    "    \n",
    "    # label tf\n",
    "    # img tf\n",
    "    # dataset\n",
    "    \n",
    "    # read img\n",
    "    \n",
    "    # shuffle\n",
    "    \n",
    "    # prefetch batch\n",
    "    x = tf.constant(x)\n",
    "    y = tf.constant(y)\n",
    "    df = tf.data.Dataset.from_tensor_slices((x, y))\n",
    "    df = df.map(read_image, num_parallel_calls=tf.data.AUTOTUNE).cache()\n",
    "    df = df.prefetch(buffer_size=2).batch(BATCH, drop_remainder=True)\n",
    "    return df"
   ]
  },
  {
   "cell_type": "code",
   "execution_count": 101,
   "id": "5a7cc176",
   "metadata": {
    "ExecuteTime": {
     "end_time": "2022-02-21T13:46:49.766350Z",
     "start_time": "2022-02-21T13:46:49.760377Z"
    }
   },
   "outputs": [
    {
     "data": {
      "text/plain": [
       "array([['1355955',\n",
       "        'data/dataset_lucas/train/1355955/14ca6849c67020249a06f46ab28da8c41ffc6c28.jpg'],\n",
       "       ['1355955',\n",
       "        'data/dataset_lucas/train/1355955/186c3c54ac3ada38638c6c4dc0ea7c849701b486.jpg'],\n",
       "       ['1355955',\n",
       "        'data/dataset_lucas/train/1355955/1ada170b59229c5018c4a9a26a2c0173d2209105.jpg'],\n",
       "       ...,\n",
       "       ['1643349',\n",
       "        'data/dataset_lucas/train/1643349/237c9130f482abfb82f497dd449aa23582dc27be.jpg'],\n",
       "       ['1643349',\n",
       "        'data/dataset_lucas/train/1643349/61c2cccf277ce06bcd907bb361a192575cd210ef.jpg'],\n",
       "       ['1643349',\n",
       "        'data/dataset_lucas/train/1643349/dc69748143921cbeb5bcdbcb4452c09948461fcc.jpg']],\n",
       "      dtype='<U77')"
      ]
     },
     "execution_count": 101,
     "metadata": {},
     "output_type": "execute_result"
    }
   ],
   "source": [
    "img_link"
   ]
  }
 ],
 "metadata": {
  "hide_input": false,
  "kernelspec": {
   "display_name": "Python 3 (ipykernel)",
   "language": "python",
   "name": "python3"
  },
  "language_info": {
   "codemirror_mode": {
    "name": "ipython",
    "version": 3
   },
   "file_extension": ".py",
   "mimetype": "text/x-python",
   "name": "python",
   "nbconvert_exporter": "python",
   "pygments_lexer": "ipython3",
   "version": "3.8.10"
  },
  "toc": {
   "base_numbering": 1,
   "nav_menu": {},
   "number_sections": true,
   "sideBar": true,
   "skip_h1_title": false,
   "title_cell": "Table of Contents",
   "title_sidebar": "Contents",
   "toc_cell": false,
   "toc_position": {},
   "toc_section_display": true,
   "toc_window_display": false
  }
 },
 "nbformat": 4,
 "nbformat_minor": 5
}
